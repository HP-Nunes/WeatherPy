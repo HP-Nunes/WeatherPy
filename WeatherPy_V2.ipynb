{
 "cells": [
  {
   "cell_type": "code",
   "execution_count": 361,
   "metadata": {},
   "outputs": [],
   "source": [
    "# Dependencies\n",
    "import matplotlib.pyplot as plt\n",
    "import requests\n",
    "import json\n",
    "import pandas as pd\n",
    "from config2 import api_key\n",
    "from pprint import pprint\n",
    "import openweathermapy.core as owm\n",
    "import seaborn as sns"
   ]
  },
  {
   "cell_type": "code",
   "execution_count": 419,
   "metadata": {},
   "outputs": [
    {
     "name": "stderr",
     "output_type": "stream",
     "text": [
      "C:\\Users\\White Base\\AppData\\Local\\conda\\conda\\envs\\PythonData\\lib\\site-packages\\ipykernel\\__main__.py:42: FutureWarning: set_value is deprecated and will be removed in a future release. Please use .at[] or .iat[] accessors instead\n",
      "C:\\Users\\White Base\\AppData\\Local\\conda\\conda\\envs\\PythonData\\lib\\site-packages\\ipykernel\\__main__.py:43: FutureWarning: set_value is deprecated and will be removed in a future release. Please use .at[] or .iat[] accessors instead\n"
     ]
    },
    {
     "name": "stdout",
     "output_type": "stream",
     "text": [
      "Sampling size (from n = 1,799) after dumping duplicates: 3324\n",
      "             city country_code\n",
      "0  krasnaya zarya           ru\n",
      "1          maputo           mz\n",
      "2           sapao           ph\n",
      "3        old road           ag\n",
      "4          mirina           gr\n",
      "Confirm n = 500: (500, 2)\n"
     ]
    }
   ],
   "source": [
    "import numpy as np\n",
    "\n",
    "np_lat = np.arange(-90,90,10)\n",
    "np_lng = np.arange(-180,180,18)\n",
    "# coordinates = (np_lat,np_lng) #Better keeping lat/lng in separate columns\n",
    "\n",
    "import random\n",
    "\n",
    "rnd_lat = random.choice(np_lat)\n",
    "rnd_lng = random.choice(np_lng)\n",
    "# rnd_coordinates = random.choice(coordinates) #Better keeping lat/lng in separate columns\n",
    "\n",
    "from citipy import citipy\n",
    "\n",
    "weather_df = pd.DataFrame()\n",
    "weather_df['rnd_lat']=\"\"\n",
    "weather_df['rnd_lng']=\"\"\n",
    "\n",
    "for x in np_lat:\n",
    "    for y in np_lng:\n",
    "        x_values = list(np.arange(-90,90,0.01))\n",
    "        y_values = list(np.arange(-180,180,0.01))\n",
    "        lats = random.sample(x_values,17999) #why 17999 instead of 500? Because of duplicates..\n",
    "        lons = random.sample(y_values,17999) #..stemming from the geocoords from citipy\n",
    "                                            #and that's the maximum number of samples I can input\n",
    "                                            #given the latitude parameters (180/0.01 = 18000)\n",
    "                                            #Also I believe a larger sampling size to be better to\n",
    "                                            #increase the random variability of values.\n",
    "        \n",
    "weather_df = weather_df.append(pd.DataFrame.from_dict({\"rnd_lat\":lats,\n",
    "                                       \"rnd_lng\":lons}))\n",
    "\n",
    "weather_df = weather_df.reset_index(drop=True)\n",
    "# print(weather_df.shape)\n",
    "\n",
    "# print(weather_df.head())\n",
    "\n",
    "\n",
    "weather_df['city']=\"\"\n",
    "weather_df['country_code']=\"\"\n",
    "\n",
    "for index,row in weather_df.iterrows():\n",
    "        weather_df_city = citipy.nearest_city(row[\"rnd_lat\"], row[\"rnd_lng\"])\n",
    "        weather_df.set_value(index,\"city\",weather_df_city.city_name)\n",
    "        weather_df.set_value(index,\"country_code\",weather_df_city.country_code)\n",
    "        \n",
    "weather_df=weather_df.drop(['rnd_lat', 'rnd_lng'],axis=1) #geo coord don't correspond to cities\n",
    "\n",
    "weather_df=weather_df.drop_duplicates() #hmmm, some coords might yield similar cities....\n",
    "print(\"Sampling size (from n = 17,999) after dumping duplicates: \" + str(len(weather_df)))\n",
    "\n",
    "weather_df = weather_df.sample(500) #resample so that n=500\n",
    "weather_df = weather_df.reset_index(drop=True) #Remove index pre-resampling\n",
    "\n",
    "print(weather_df.head())\n",
    "\n",
    "print(\"Confirm n = 500: \" + str(weather_df.shape))"
   ]
  },
  {
   "cell_type": "code",
   "execution_count": 414,
   "metadata": {},
   "outputs": [],
   "source": [
    "# API Configuration\n",
    "\n",
    "target_url = 'http://api.openweathermap.org/data/2.5/weather?'\n",
    "\n",
    "units = \"metric\" # https://openweathermap.org/current ; API Documentation\n",
    "settings = {\"units\": \"metric\", \"appid\": api_key,}\n",
    "city = list(weather_df['city'])\n",
    "country_code = list(weather_df['country_code'])\n",
    "\n",
    "\n",
    "# Build partial query URL\n",
    "query_url = f\"{target_url}appid={api_key}&units={units}&q={city}&q={country_code}\"\n",
    "query_url=requests.get(query_url, params = settings).json()\n",
    "\n",
    "pprint(query_url)"
   ]
  },
  {
   "cell_type": "code",
   "execution_count": null,
   "metadata": {},
   "outputs": [],
   "source": []
  },
  {
   "cell_type": "code",
   "execution_count": 325,
   "metadata": {},
   "outputs": [],
   "source": [
    "# attributes = ('city', 'country_code', 'rnd_lat', 'rnd_lng', 'citipy_lat', 'citipy_lng','Temp (°C)',\n",
    "#             'Humidity (%)','Cloudiness (%)','Wind Speed (mph)')\n",
    "# weather_df = pd.DataFrame(columns = attributes)"
   ]
  },
  {
   "cell_type": "code",
   "execution_count": null,
   "metadata": {},
   "outputs": [],
   "source": [
    " if city_name not in cities_df.city_name.values:\n",
    "            print('Status code: %s. DF length is now: %d' % (str(weather_json[\"cod\"]), len(cities_df)+1))"
   ]
  },
  {
   "cell_type": "code",
   "execution_count": null,
   "metadata": {},
   "outputs": [],
   "source": []
  },
  {
   "cell_type": "code",
   "execution_count": null,
   "metadata": {},
   "outputs": [],
   "source": []
  },
  {
   "cell_type": "code",
   "execution_count": null,
   "metadata": {},
   "outputs": [],
   "source": []
  }
 ],
 "metadata": {
  "kernelspec": {
   "display_name": "Python [conda env:PythonData]",
   "language": "python",
   "name": "conda-env-PythonData-py"
  },
  "language_info": {
   "codemirror_mode": {
    "name": "ipython",
    "version": 3
   },
   "file_extension": ".py",
   "mimetype": "text/x-python",
   "name": "python",
   "nbconvert_exporter": "python",
   "pygments_lexer": "ipython3",
   "version": "3.6.4"
  }
 },
 "nbformat": 4,
 "nbformat_minor": 2
}
